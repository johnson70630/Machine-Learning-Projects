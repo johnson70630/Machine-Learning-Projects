{
 "cells": [
  {
   "cell_type": "code",
   "execution_count": 1,
   "metadata": {},
   "outputs": [
    {
     "name": "stdout",
     "output_type": "stream",
     "text": [
      "   X0      X1  X2  X3  X4  X5  X6  X7  X8  X9  ...    X15    X16    X17   X18  \\\n",
      "0   1   20000   2   2   1  24   2   2  -1  -1  ...      0      0      0     0   \n",
      "1   2  120000   2   2   2  26  -1   2   0   0  ...   3272   3455   3261     0   \n",
      "2   3   90000   2   2   2  34   0   0   0   0  ...  14331  14948  15549  1518   \n",
      "3   4   50000   2   2   1  37   0   0   0   0  ...  28314  28959  29547  2000   \n",
      "4   5   50000   1   2   1  57  -1   0  -1   0  ...  20940  19146  19131  2000   \n",
      "\n",
      "     X19    X20   X21   X22   X23  Y  \n",
      "0    689      0     0     0     0  1  \n",
      "1   1000   1000  1000     0  2000  1  \n",
      "2   1500   1000  1000  1000  5000  0  \n",
      "3   2019   1200  1100  1069  1000  0  \n",
      "4  36681  10000  9000   689   679  0  \n",
      "\n",
      "[5 rows x 25 columns]\n"
     ]
    }
   ],
   "source": [
    "import pandas as pd\n",
    "import numpy as np\n",
    "from sklearn import preprocessing, linear_model\n",
    "from sklearn.model_selection import train_test_split\n",
    "from sklearn import preprocessing\n",
    "from sklearn.metrics import accuracy_score\n",
    "\n",
    "# Load 'default_credit_card.csv'\n",
    "data = pd.read_csv('default_credit_card.csv')\n",
    "\n",
    "print(data.head())"
   ]
  },
  {
   "cell_type": "code",
   "execution_count": 2,
   "metadata": {},
   "outputs": [
    {
     "name": "stdout",
     "output_type": "stream",
     "text": [
      "(30000, 24)\n",
      "(30000,)\n",
      "0        1\n",
      "1        1\n",
      "2        0\n",
      "3        0\n",
      "4        0\n",
      "        ..\n",
      "29995    0\n",
      "29996    0\n",
      "29997    1\n",
      "29998    1\n",
      "29999    1\n",
      "Name: Y, Length: 30000, dtype: int64\n"
     ]
    }
   ],
   "source": [
    "# Set the feature vector X and the corresponding label y\n",
    "y = data['Y']\n",
    "X = data.drop('Y', axis=1)\n",
    "\n",
    "# Standardize data\n",
    "standardizer = preprocessing.StandardScaler()\n",
    "X = standardizer.fit_transform(X)\n",
    "\n",
    "print(X.shape)\n",
    "print(y.shape)\n",
    "print(y)"
   ]
  },
  {
   "cell_type": "code",
   "execution_count": 3,
   "metadata": {},
   "outputs": [],
   "source": [
    "# Split the data into training data and testing data (assuming random_state=1)\n",
    "X_train, X_test, y_train, y_test = train_test_split(X, y, test_size=0.3, random_state=1)\n",
    "\n",
    "scaler = preprocessing.StandardScaler().fit(X_train)\n",
    "X_train = scaler.transform(X_train)"
   ]
  },
  {
   "cell_type": "code",
   "execution_count": 4,
   "metadata": {},
   "outputs": [
    {
     "name": "stdout",
     "output_type": "stream",
     "text": [
      "number of correct sample: 7276\n",
      "accuracy: 0.8084444444444444\n"
     ]
    }
   ],
   "source": [
    "# Define a Logistic Regression model and train it\n",
    "model = linear_model.LogisticRegression()\n",
    "classifier = model.fit(X_train, y_train)\n",
    "y_pred = model.predict(X_test)\n",
    "\n",
    "# Validate the results\n",
    "accuracy = accuracy_score(y_test, y_pred)\n",
    "num_correct_samples = accuracy_score(y_test, y_pred, normalize=False)\n",
    "\n",
    "print('number of correct sample: {}'.format(num_correct_samples))\n",
    "print('accuracy: {}'.format(accuracy))"
   ]
  }
 ],
 "metadata": {
  "kernelspec": {
   "display_name": "Python 3 (ipykernel)",
   "language": "python",
   "name": "python3"
  },
  "language_info": {
   "codemirror_mode": {
    "name": "ipython",
    "version": 3
   },
   "file_extension": ".py",
   "mimetype": "text/x-python",
   "name": "python",
   "nbconvert_exporter": "python",
   "pygments_lexer": "ipython3",
   "version": "3.8.18"
  }
 },
 "nbformat": 4,
 "nbformat_minor": 4
}
