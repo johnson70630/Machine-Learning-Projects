{
 "cells": [
  {
   "cell_type": "markdown",
   "metadata": {},
   "source": [
    "# Linear Regression (Polynomial features) on wine quality dataset\n",
    "dataset description: https://archive.ics.uci.edu/ml/datasets/wine+quality  "
   ]
  },
  {
   "cell_type": "code",
   "execution_count": 1,
   "metadata": {},
   "outputs": [
    {
     "name": "stdout",
     "output_type": "stream",
     "text": [
      "Coefficients: [-1.13249644e-10 -2.09788623e+02 -2.83635410e+02 -9.98491091e+01\n",
      " -1.37039863e+02 -8.62987477e+02 -5.36486341e+02  8.45031178e+02\n",
      " -1.70903973e+02 -6.39126802e+02  4.51418756e+02 -4.05429615e+01\n",
      " -7.49565069e+00 -3.07311033e+00 -8.69409210e-01 -5.42117157e+00\n",
      " -1.14788700e+01 -3.50831755e+00  4.26520634e+00  2.32311362e+02\n",
      " -9.84583362e+00  4.67139993e+00  6.29826381e-01 -1.21634801e+00\n",
      "  1.85869681e-01 -5.39659145e-01  2.21759172e+00 -3.85924002e-01\n",
      "  3.08748611e+00  2.86828832e+02 -8.69282724e+00 -1.96966045e+00\n",
      "  7.69038945e+00 -2.42369807e-01  1.23759892e+00  1.54482157e+00\n",
      "  1.06662958e+00 -4.21575598e-01  1.11781877e+02 -1.36239101e+01\n",
      " -3.68513622e+00  5.06565652e+00 -2.00701426e+00 -3.01215127e+00\n",
      "  6.03208921e-01 -9.17598123e-03  1.74131809e+02 -2.74895082e+01\n",
      "  1.30653959e-01 -3.47699775e+00  1.10012434e+00 -7.63697456e-01\n",
      " -1.25138092e+00  8.73559925e+02 -6.30754707e+00  2.07529960e+00\n",
      "  6.97274055e+00 -1.78544790e+00 -3.56536541e-01  5.40327815e+02\n",
      " -3.79482576e+00 -3.79797070e+00  8.88021148e+00  1.41099661e+00\n",
      " -8.49916804e+02  9.90925674e+00  4.30637573e+00 -1.63245828e+01\n",
      "  1.43656655e+02  6.47416324e+02 -4.60948449e+02  2.60387832e+01\n",
      " -2.38798526e+01  9.24821748e+00  1.78544493e+01 -4.43563351e+00\n",
      "  6.33007039e-01 -7.49726497e-01]\n",
      "\n",
      "Mean squared error: 0.4308785588456371\n",
      "R2 score: 0.2920650928964724\n"
     ]
    }
   ],
   "source": [
    "import numpy as np\n",
    "from sklearn.model_selection import train_test_split\n",
    "import pandas as pd\n",
    "from sklearn import linear_model\n",
    "from sklearn import preprocessing\n",
    "from sklearn.preprocessing import PolynomialFeatures\n",
    "from sklearn.metrics import mean_squared_error, r2_score\n",
    "\n",
    "# Read 'winequality-red.csv' using pandas\n",
    "df = pd.read_csv('dataset/winequality-red.csv')\n",
    "\n",
    "## Define the feature vector X and the label y\n",
    "y = df['quality']\n",
    "X = df.drop('quality', axis=1)\n",
    "\n",
    "# Use PolynomialFeatures to increase the dimension (assuming degree=2)\n",
    "poly = PolynomialFeatures(degree=2)\n",
    "X = poly.fit_transform(X)\n",
    "\n",
    "# Split dataset into traing data and testing data\n",
    "X_train,X_test,y_train,y_test=train_test_split(X,y,test_size=0.3,random_state=1)\n",
    "\n",
    "\n",
    "# Normalize training data\n",
    "normalizer = preprocessing.MinMaxScaler()\n",
    "X_train = normalizer.fit_transform(X_train)\n",
    "\n",
    "model = linear_model.LinearRegression()\n",
    "model.fit(X_train, y_train)\n",
    "\n",
    "# Normalize testing data\n",
    "X_test = normalizer.transform(X_test)\n",
    "\n",
    "y_pred = model.predict(X_test)\n",
    "\n",
    "# The coefficients\n",
    "print('Coefficients: {}\\n'.format(model.coef_))\n",
    "# The mean squared error\n",
    "print(\"Mean squared error: {}\".format(mean_squared_error(y_test, y_pred)))\n",
    "# Explained variance score: 1 is perfect prediction\n",
    "print('R2 score: {}'.format(r2_score(y_test, y_pred)))"
   ]
  }
 ],
 "metadata": {
  "kernelspec": {
   "display_name": "Python 3 (ipykernel)",
   "language": "python",
   "name": "python3"
  },
  "language_info": {
   "codemirror_mode": {
    "name": "ipython",
    "version": 3
   },
   "file_extension": ".py",
   "mimetype": "text/x-python",
   "name": "python",
   "nbconvert_exporter": "python",
   "pygments_lexer": "ipython3",
   "version": "3.8.18"
  }
 },
 "nbformat": 4,
 "nbformat_minor": 4
}
