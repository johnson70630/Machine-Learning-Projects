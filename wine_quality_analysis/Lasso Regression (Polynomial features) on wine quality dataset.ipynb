{
 "cells": [
  {
   "cell_type": "markdown",
   "metadata": {},
   "source": [
    "# Lasso Regression (Polynomial features) on wine quality dataset"
   ]
  },
  {
   "cell_type": "code",
   "execution_count": 1,
   "metadata": {},
   "outputs": [
    {
     "name": "stdout",
     "output_type": "stream",
     "text": [
      "X shape: (1599, 11)\n",
      "y shape: (1599,)\n",
      "Coefficients: [ 0.         -0.15459205  0.          0.         -0.         -0.\n",
      " -0.         -0.         -0.          0.03926141  0.24947033]\n",
      "\n",
      "Number of model coef: 3\n"
     ]
    }
   ],
   "source": [
    "import numpy as np\n",
    "import pandas as pd\n",
    "from sklearn import datasets, linear_model, preprocessing\n",
    "from sklearn.metrics import mean_squared_error, r2_score\n",
    "from sklearn.model_selection import train_test_split\n",
    "\n",
    "df = pd.read_csv('./dataset/winequality-red.csv')\n",
    "\n",
    "y = df['quality']\n",
    "X = df.drop(['quality'], axis=1)\n",
    "\n",
    "\n",
    "print(\"X shape: {}\".format(X.shape))\n",
    "print(\"y shape: {}\".format(y.shape))\n",
    "\n",
    "# Standardize dataset\n",
    "standardizer = preprocessing.StandardScaler()\n",
    "X = standardizer.fit_transform(X)\n",
    "X = pd.DataFrame(X)\n",
    "\n",
    "# Create a Lasso model (assuming alpha=0.1)\n",
    "model = linear_model.Lasso(alpha=0.1)\n",
    "\n",
    "# Train the model using the training sets\n",
    "model.fit(X, y)\n",
    "\n",
    "# The coefficients\n",
    "print('Coefficients: {}\\n'.format(model.coef_))\n",
    "\n",
    "# Display how many coefficients are not equal to 0\n",
    "print('Number of model coef: {}'.format(np.sum(model.coef_ != 0)))"
   ]
  },
  {
   "cell_type": "code",
   "execution_count": 2,
   "metadata": {},
   "outputs": [
    {
     "name": "stdout",
     "output_type": "stream",
     "text": [
      "before feature extraction\n",
      "X shape: (1599, 11)\n",
      "         0         1         2         3         4         5         6   \\\n",
      "0 -0.528360  0.961877 -1.391472 -0.453218 -0.243707 -0.466193 -0.379133   \n",
      "1 -0.298547  1.967442 -1.391472  0.043416  0.223875  0.872638  0.624363   \n",
      "2 -0.298547  1.297065 -1.186070 -0.169427  0.096353 -0.083669  0.229047   \n",
      "3  1.654856 -1.384443  1.484154 -0.453218 -0.264960  0.107592  0.411500   \n",
      "4 -0.528360  0.961877 -1.391472 -0.453218 -0.243707 -0.466193 -0.379133   \n",
      "\n",
      "         7         8         9         10  \n",
      "0  0.558274  1.288643 -0.579207 -0.960246  \n",
      "1  0.028261 -0.719933  0.128950 -0.584777  \n",
      "2  0.134264 -0.331177 -0.048089 -0.584777  \n",
      "3  0.664277 -0.979104 -0.461180 -0.584777  \n",
      "4  0.558274  1.288643 -0.579207 -0.960246  \n"
     ]
    }
   ],
   "source": [
    "print('before feature extraction\\nX shape: {}'.format(X.shape))\n",
    "print(X.head())"
   ]
  },
  {
   "cell_type": "code",
   "execution_count": 3,
   "metadata": {},
   "outputs": [
    {
     "name": "stdout",
     "output_type": "stream",
     "text": [
      "[False  True False False False False False False False  True  True]\n",
      "after feature extraction\n",
      "X shape: (1599, 3)\n",
      "         1         9         10\n",
      "0  0.961877 -0.579207 -0.960246\n",
      "1  1.967442  0.128950 -0.584777\n",
      "2  1.297065 -0.048089 -0.584777\n",
      "3 -1.384443 -0.461180 -0.584777\n",
      "4  0.961877 -0.579207 -0.960246\n"
     ]
    }
   ],
   "source": [
    "mask = model.coef_ != 0\n",
    "print(mask)\n",
    "\n",
    "# Use a mask to eliminate features corresponding to coefficients that are 0\n",
    "X = X.iloc[:, mask]\n",
    "\n",
    "print('after feature extraction\\nX shape: {}'.format(X.shape))\n",
    "print(X.head())"
   ]
  },
  {
   "cell_type": "code",
   "execution_count": 4,
   "metadata": {},
   "outputs": [
    {
     "name": "stdout",
     "output_type": "stream",
     "text": [
      "Coefficients: [ 0.         -0.1979168   0.22973068  0.33944012 -0.02937768 -0.02456795\n",
      " -0.0200283  -0.14557193  0.05641426 -0.04929108]\n",
      "\n",
      "Mean squared error: 0.40597004977398327\n",
      "R2 score: 0.3329898562520003\n"
     ]
    }
   ],
   "source": [
    "from sklearn import preprocessing\n",
    "from sklearn.preprocessing import PolynomialFeatures\n",
    "\n",
    "# Perform PolynomialFeatures on the extracted features to increase the dimension (assuming degree=2)\n",
    "poly = PolynomialFeatures(degree=2)\n",
    "X_poly = poly.fit_transform(X)\n",
    "\n",
    "X_train,X_test,y_train,y_test=train_test_split(X_poly, y, test_size=0.3, random_state=1)\n",
    "\n",
    "scaler = preprocessing.StandardScaler().fit(X_train)\n",
    "X_train = scaler.transform(X_train)\n",
    "\n",
    "\n",
    "model = linear_model.LinearRegression()\n",
    "model.fit(X_train, y_train)\n",
    "\n",
    "X_test = scaler.transform(X_test)\n",
    "y_pred = model.predict(X_test)\n",
    "\n",
    "# The coefficients\n",
    "print('Coefficients: {}\\n'.format(model.coef_))\n",
    "# The mean squared error\n",
    "print(\"Mean squared error: {}\".format(mean_squared_error(y_test, y_pred)))\n",
    "# Explained variance score: 1 is perfect prediction\n",
    "print('R2 score: {}'.format(r2_score(y_test, y_pred)))"
   ]
  }
 ],
 "metadata": {
  "kernelspec": {
   "display_name": "Python 3 (ipykernel)",
   "language": "python",
   "name": "python3"
  },
  "language_info": {
   "codemirror_mode": {
    "name": "ipython",
    "version": 3
   },
   "file_extension": ".py",
   "mimetype": "text/x-python",
   "name": "python",
   "nbconvert_exporter": "python",
   "pygments_lexer": "ipython3",
   "version": "3.8.18"
  }
 },
 "nbformat": 4,
 "nbformat_minor": 4
}
