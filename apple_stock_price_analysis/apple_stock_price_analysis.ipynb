{
 "cells": [
  {
   "cell_type": "code",
   "execution_count": 1,
   "metadata": {},
   "outputs": [
    {
     "name": "stdout",
     "output_type": "stream",
     "text": [
      "         Date        Open        High          Low        Close    Adj Close  \\\n",
      "0  2018-04-30  1030.01001  1037.00000  1016.849976  1017.330017  1017.330017   \n",
      "1  2018-04-27  1046.00000  1049.50000  1025.589966  1030.050049  1030.050049   \n",
      "2  2018-04-26  1029.51001  1047.97998  1018.190002  1040.040039  1040.040039   \n",
      "3  2018-04-25  1025.52002  1032.48999  1015.309998  1021.179993  1021.179993   \n",
      "4  2018-04-24  1052.00000  1057.00000  1010.590027  1019.979980  1019.979980   \n",
      "\n",
      "    Volume  \n",
      "0  1664113  \n",
      "1  1611500  \n",
      "2  2079500  \n",
      "3  2391100  \n",
      "4  4760300  \n"
     ]
    }
   ],
   "source": [
    "import pandas as pd\n",
    "from sklearn.model_selection import train_test_split\n",
    "from sklearn import preprocessing, svm\n",
    "from sklearn.metrics import accuracy_score, confusion_matrix\n",
    "\n",
    "df = pd.read_csv('stock_apple.csv')\n",
    "print(df.head())"
   ]
  },
  {
   "cell_type": "code",
   "execution_count": 2,
   "metadata": {},
   "outputs": [
    {
     "name": "stdout",
     "output_type": "stream",
     "text": [
      "         Date        Open        High          Low        Close    Adj Close  \\\n",
      "0  2018-04-30  1030.01001  1037.00000  1016.849976  1017.330017  1017.330017   \n",
      "1  2018-04-27  1046.00000  1049.50000  1025.589966  1030.050049  1030.050049   \n",
      "2  2018-04-26  1029.51001  1047.97998  1018.190002  1040.040039  1040.040039   \n",
      "3  2018-04-25  1025.52002  1032.48999  1015.309998  1021.179993  1021.179993   \n",
      "4  2018-04-24  1052.00000  1057.00000  1010.590027  1019.979980  1019.979980   \n",
      "\n",
      "    Volume  Yes Adj Close  Yes Volume       Gain  Up  \n",
      "0  1664113    1030.050049   1611500.0 -12.720032   0  \n",
      "1  1611500    1040.040039   2079500.0  -9.989990   0  \n",
      "2  2079500    1021.179993   2391100.0  18.860046   1  \n",
      "3  2391100    1019.979980   4760300.0   1.200013   1  \n",
      "4  4760300    1067.449951   2341300.0 -47.469971   0  \n"
     ]
    }
   ],
   "source": [
    "# Define the fields for yesterday's closing price and yesterday's trading volume\n",
    "df['Yes Adj Close'] = df['Adj Close'].shift(-1)\n",
    "df['Yes Volume'] = df['Volume'].shift(-1)\n",
    "\n",
    "# Define the gain field (today's closing price - yesterday's closing price)\"、\n",
    "df['Gain'] = df['Adj Close']- df['Yes Adj Close']\n",
    "\n",
    "# Define the rise/fall category field. If today's closing price - yesterday's closing price > 0, set it to 1; otherwise, set it to 0\n",
    "df['Up'] = df['Gain'].apply(lambda x:1 if x > 0 else 0)\n",
    "\n",
    "print(df.head())"
   ]
  },
  {
   "cell_type": "code",
   "execution_count": 3,
   "metadata": {},
   "outputs": [
    {
     "name": "stdout",
     "output_type": "stream",
     "text": [
      "         Date        Open        High          Low        Close    Adj Close  \\\n",
      "0  2018-04-30  1030.01001  1037.00000  1016.849976  1017.330017  1017.330017   \n",
      "1  2018-04-27  1046.00000  1049.50000  1025.589966  1030.050049  1030.050049   \n",
      "2  2018-04-26  1029.51001  1047.97998  1018.190002  1040.040039  1040.040039   \n",
      "3  2018-04-25  1025.52002  1032.48999  1015.309998  1021.179993  1021.179993   \n",
      "4  2018-04-24  1052.00000  1057.00000  1010.590027  1019.979980  1019.979980   \n",
      "\n",
      "    Volume  Yes Adj Close  Yes Volume       Gain  Up  \n",
      "0  1664113    1030.050049   1611500.0 -12.720032   0  \n",
      "1  1611500    1040.040039   2079500.0  -9.989990   0  \n",
      "2  2079500    1021.179993   2391100.0  18.860046   1  \n",
      "3  2391100    1019.979980   4760300.0   1.200013   1  \n",
      "4  4760300    1067.449951   2341300.0 -47.469971   0  \n"
     ]
    }
   ],
   "source": [
    "# Handle missing values\n",
    "df = df.dropna()\n",
    "\n",
    "print(df.head())"
   ]
  },
  {
   "cell_type": "code",
   "execution_count": 4,
   "metadata": {},
   "outputs": [
    {
     "name": "stdout",
     "output_type": "stream",
     "text": [
      "   volume_ratio  close_price_ratio  target\n",
      "0      0.774946           0.990395     0.0\n",
      "1      0.869683           1.018469     0.0\n",
      "2      0.502300           1.001177     1.0\n",
      "3      2.033187           0.955530     1.0\n",
      "4      1.238980           0.994865     0.0\n"
     ]
    }
   ],
   "source": [
    "df_normal = pd.DataFrame()\n",
    "df_normal['volume_ratio'] = df['Volume'].apply(pd.to_numeric) / df['Yes Volume'].apply(pd.to_numeric) \n",
    "df_normal['close_price_ratio'] = df['Adj Close'].apply(pd.to_numeric) / df['Yes Adj Close'].apply(pd.to_numeric)\n",
    "\n",
    "df_normal['target'] = df['Up'].shift(1)\n",
    "\n",
    "df_normal = df_normal.dropna()\n",
    "df_normal = df_normal.reset_index(drop=True)\n",
    "print(df_normal.head())"
   ]
  },
  {
   "cell_type": "code",
   "execution_count": 5,
   "metadata": {},
   "outputs": [],
   "source": [
    "X=df_normal[['volume_ratio', 'close_price_ratio']]\n",
    "y=df_normal['target']"
   ]
  },
  {
   "cell_type": "code",
   "execution_count": 6,
   "metadata": {},
   "outputs": [
    {
     "name": "stdout",
     "output_type": "stream",
     "text": [
      "number of correct sample: 62\n",
      "accuracy: 0.6138613861386139\n",
      "confusion matrix: [[ 1 38]\n",
      " [ 1 61]]\n"
     ]
    }
   ],
   "source": [
    "# Standardize data\n",
    "standardizer = preprocessing.StandardScaler()\n",
    "X = standardizer.fit_transform(X)\n",
    "\n",
    "# Split dataset\n",
    "X_train,X_test,y_train,y_test=train_test_split(X,y,test_size=0.2, random_state=1)\n",
    "\n",
    "\n",
    "# Build a model\n",
    "model = svm.SVC()\n",
    "classifier = model.fit(X_train, y_train)\n",
    "y_pred = model.predict(X_test)\n",
    "\n",
    "accuracy = accuracy_score(y_test, y_pred)\n",
    "num_correct_samples = accuracy_score(y_test, y_pred, normalize=False)\n",
    "con_matrix = confusion_matrix(y_test, y_pred)\n",
    "\n",
    "print('number of correct sample: {}'.format(num_correct_samples))\n",
    "print('accuracy: {}'.format(accuracy))\n",
    "print('confusion matrix: {}'.format(con_matrix))"
   ]
  }
 ],
 "metadata": {
  "kernelspec": {
   "display_name": "Python 3 (ipykernel)",
   "language": "python",
   "name": "python3"
  },
  "language_info": {
   "codemirror_mode": {
    "name": "ipython",
    "version": 3
   },
   "file_extension": ".py",
   "mimetype": "text/x-python",
   "name": "python",
   "nbconvert_exporter": "python",
   "pygments_lexer": "ipython3",
   "version": "3.8.18"
  }
 },
 "nbformat": 4,
 "nbformat_minor": 4
}
